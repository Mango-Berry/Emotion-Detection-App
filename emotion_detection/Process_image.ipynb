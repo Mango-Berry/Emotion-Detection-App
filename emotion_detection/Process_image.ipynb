{
 "cells": [
  {
   "cell_type": "code",
   "execution_count": 4,
   "id": "f6cd20f9",
   "metadata": {},
   "outputs": [],
   "source": [
    "import tensorflow as tf\n",
    "import keras\n",
    "from keras.models import model_from_json\n",
    "import numpy as np\n",
    "import matplotlib.image as mpimg\n",
    "import cv2\n",
    "\n",
    "IMG_HEIGHT = 48\n",
    "IMG_WIDTH = 48\n",
    "\n",
    "class Model(object):\n",
    "    EMOTE_LIST = ['Angry', 'Disgust', 'Fear', 'Happy', 'Sad', 'Surprised', 'Neutral']\n",
    "\n",
    "    def __init__(self, model_json, model_weights):\n",
    "        with open(model_json, \"r\") as json_file:\n",
    "            loaded_model = json_file.read()\n",
    "            self.loaded_model = model_from_json(loaded_model)\n",
    "\n",
    "        self.loaded_model.load_weights(model_weights)\n",
    "        self.loaded_model.predict_fuction()\n",
    "\n",
    "    def load_img_from_path(image_path):\n",
    "        image=mpimg.imread(image_path)\n",
    "        image= cv2.imread(image_path, cv2.COLOR_BGR2RGB)\n",
    "        image= cv2.resize(image, (IMG_HEIGHT, IMG_WIDTH), interpolation = cv2.INTER_AREA)\n",
    "        images_arr = []\n",
    "        images_arr.append(np.array(image))\n",
    "        img = np.asarray(images_arr)\n",
    "        img= img.astype('float32')\n",
    "        img /= 255\n",
    "        return img\n",
    "        \n",
    "\n",
    "\n",
    "    def predict_emotion(self, img):\n",
    "        self.preds = self.loaded_model.predict(img)\n",
    "        return Model.EMOTE_LIST[np.argmax(self.preds)]\n",
    "            "
   ]
  }
 ],
 "metadata": {
  "kernelspec": {
<<<<<<< HEAD
   "display_name": "emotion_detection",
   "language": "python",
   "name": "python3"
=======
   "display_name": "Python(tf)",
   "language": "python",
   "name": "tf"
>>>>>>> 76bbdd9362168487bda6a583ce6ae0f5ed63e342
  },
  "language_info": {
   "codemirror_mode": {
    "name": "ipython",
    "version": 3
   },
   "file_extension": ".py",
   "mimetype": "text/x-python",
   "name": "python",
   "nbconvert_exporter": "python",
   "pygments_lexer": "ipython3",
<<<<<<< HEAD
   "version": "3.9.1 (tags/v3.9.1:1e5d33e, Dec  7 2020, 17:08:21) [MSC v.1927 64 bit (AMD64)]"
  },
  "vscode": {
   "interpreter": {
    "hash": "de53309785c7309712d51a915c399b3a3d8f4b0ce218c8094a438fe8db8ef79c"
   }
=======
   "version": "3.10.0 | packaged by conda-forge | (default, Nov 10 2021, 13:20:59) [MSC v.1916 64 bit (AMD64)]"
>>>>>>> 76bbdd9362168487bda6a583ce6ae0f5ed63e342
  }
 },
 "nbformat": 4,
 "nbformat_minor": 5
}
